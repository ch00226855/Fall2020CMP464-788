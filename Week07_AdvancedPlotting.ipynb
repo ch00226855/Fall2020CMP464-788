{
 "cells": [
  {
   "cell_type": "markdown",
   "metadata": {},
   "source": [
    "# Week 7\n",
    "# Advanced Plotting\n",
    "\n",
    "Today we will study the `seaborn` library. Seaborn is a powerful visualization library that provides a high-level interface to Matplotlib.\n",
    "\n",
    "On Seaborn’s official website, they state:\n",
    "\n",
    ">If matplotlib “tries to make easy things easy and hard things possible”, seaborn tries to make a well-defined set of hard things easy too."
   ]
  },
  {
   "cell_type": "code",
   "execution_count": null,
   "metadata": {},
   "outputs": [],
   "source": [
    "!pip install seaborn"
   ]
  },
  {
   "cell_type": "code",
   "execution_count": null,
   "metadata": {},
   "outputs": [],
   "source": [
    "import numpy as np\n",
    "import pandas as pd\n",
    "import matplotlib.pyplot as plt\n",
    "import seaborn as sns\n",
    "%matplotlib inline\n",
    "sns.__version__"
   ]
  },
  {
   "cell_type": "markdown",
   "metadata": {},
   "source": [
    "## 1. Scatter Plot\n",
    "`sns.scatterplot()`\n",
    "Parameters:\n",
    "- x, y: columns for x and y axes.\n",
    "- data: data frame\n",
    "- hue: variable that will produce points with different colors\n",
    "- marker: how to draw the markers for different variables.\n",
    "- alpha: opacity\n",
    "- legend: \"auto\", \"brief\", \"full\", or False"
   ]
  },
  {
   "cell_type": "code",
   "execution_count": null,
   "metadata": {},
   "outputs": [],
   "source": [
    "# Seaborn comes with several educational datasets\n",
    "penguins = sns.load_dataset(\"penguins\")\n",
    "penguins.head()"
   ]
  },
  {
   "cell_type": "code",
   "execution_count": null,
   "metadata": {},
   "outputs": [],
   "source": [
    "# sns.scatterplot(data=penguins, x=\"bill_length_mm\", y=\"bill_depth_mm\")\n",
    "\n",
    "# sns.scatterplot(data=penguins, x=\"bill_length_mm\", y=\"bill_depth_mm\",\n",
    "#                 hue=\"species\")\n",
    "\n",
    "# sns.scatterplot(data=penguins, x=\"bill_length_mm\", y=\"bill_depth_mm\",\n",
    "#                 alpha=0.5)\n",
    "\n",
    "# sns.scatterplot(data=penguins, x=\"bill_length_mm\", y=\"bill_depth_mm\",\n",
    "#                 hue=\"species\",\n",
    "#                 legend=False)\n",
    "\n",
    "# sns.scatterplot(data=penguins, x=\"bill_length_mm\", y=\"bill_depth_mm\",\n",
    "#                 hue=\"species\",\n",
    "#                 marker=\"X\")"
   ]
  },
  {
   "cell_type": "markdown",
   "metadata": {},
   "source": [
    "## 2. Line Chart\n",
    "`sns.lineplot()`\n",
    "- x, y\n",
    "- data\n",
    "- hue"
   ]
  },
  {
   "cell_type": "code",
   "execution_count": null,
   "metadata": {
    "scrolled": true
   },
   "outputs": [],
   "source": [
    "flights = sns.load_dataset(\"flights\")\n",
    "flights.head()"
   ]
  },
  {
   "cell_type": "code",
   "execution_count": null,
   "metadata": {},
   "outputs": [],
   "source": [
    "may_flights = flights[flights['month'] == 'May']\n",
    "may_flights.head()"
   ]
  },
  {
   "cell_type": "code",
   "execution_count": null,
   "metadata": {
    "scrolled": true
   },
   "outputs": [],
   "source": [
    "sns.lineplot(data=may_flights, x=\"year\", y=\"passengers\")"
   ]
  },
  {
   "cell_type": "code",
   "execution_count": null,
   "metadata": {},
   "outputs": [],
   "source": [
    "# Passing the entire dataset in long-form mode will aggregate over repeated values (each year) \n",
    "# to show the mean and 95% confidence interval:\n",
    "sns.lineplot(data=flights, x=\"year\", y=\"passengers\")"
   ]
  },
  {
   "cell_type": "code",
   "execution_count": null,
   "metadata": {},
   "outputs": [],
   "source": [
    "plt.figure(figsize=(6, 6))\n",
    "sns.lineplot(data=flights, x=\"year\", y=\"passengers\", hue=\"month\")"
   ]
  },
  {
   "cell_type": "markdown",
   "metadata": {},
   "source": [
    "## 3. Histogram\n",
    "`sns.histplot`\n",
    "- bins"
   ]
  },
  {
   "cell_type": "code",
   "execution_count": null,
   "metadata": {},
   "outputs": [],
   "source": [
    "x = np.random.randn(100)\n",
    "ax = sns.distplot(x)"
   ]
  },
  {
   "cell_type": "markdown",
   "metadata": {},
   "source": [
    "## 4. Bar Plot\n",
    "- `sns.countplot`\n",
    "- `sns.barplot`"
   ]
  },
  {
   "cell_type": "code",
   "execution_count": null,
   "metadata": {},
   "outputs": [],
   "source": [
    "titanic = sns.load_dataset(\"titanic\")\n",
    "titanic.head()"
   ]
  },
  {
   "cell_type": "code",
   "execution_count": null,
   "metadata": {},
   "outputs": [],
   "source": [
    "ax = sns.countplot(x=\"class\", data=titanic)"
   ]
  },
  {
   "cell_type": "code",
   "execution_count": null,
   "metadata": {
    "scrolled": true
   },
   "outputs": [],
   "source": [
    "sns.countplot(x=\"class\", hue=\"who\", data=titanic)"
   ]
  },
  {
   "cell_type": "code",
   "execution_count": null,
   "metadata": {},
   "outputs": [],
   "source": [
    "tips = sns.load_dataset(\"tips\")\n",
    "tips.head()"
   ]
  },
  {
   "cell_type": "code",
   "execution_count": null,
   "metadata": {},
   "outputs": [],
   "source": [
    "sns.barplot(x=\"day\", y=\"total_bill\", data=tips)"
   ]
  },
  {
   "cell_type": "markdown",
   "metadata": {},
   "source": [
    "## 5. Box Plot"
   ]
  },
  {
   "cell_type": "code",
   "execution_count": null,
   "metadata": {},
   "outputs": [],
   "source": [
    "sns.boxplot(x=\"day\", y=\"total_bill\", data=tips)"
   ]
  },
  {
   "cell_type": "markdown",
   "metadata": {},
   "source": [
    "Use `swarmplot()` to show the datapoints on top of the boxes:"
   ]
  },
  {
   "cell_type": "code",
   "execution_count": null,
   "metadata": {},
   "outputs": [],
   "source": [
    "sns.boxplot(x=\"day\", y=\"total_bill\", data=tips)\n",
    "sns.swarmplot(x=\"day\", y=\"total_bill\", data=tips, color=\".25\")"
   ]
  },
  {
   "cell_type": "markdown",
   "metadata": {},
   "source": [
    "## 6. Regplot()\n",
    "Plot data and a linear regression model fit."
   ]
  },
  {
   "cell_type": "code",
   "execution_count": null,
   "metadata": {
    "scrolled": false
   },
   "outputs": [],
   "source": [
    "sns.regplot(x=\"total_bill\", y=\"tip\", data=tips)"
   ]
  },
  {
   "cell_type": "code",
   "execution_count": null,
   "metadata": {},
   "outputs": [],
   "source": [
    "sns.scatterplot(x=\"total_bill\", y=\"tip\", data=tips)"
   ]
  },
  {
   "cell_type": "markdown",
   "metadata": {},
   "source": [
    "## 7. Catplot()"
   ]
  },
  {
   "cell_type": "code",
   "execution_count": null,
   "metadata": {
    "scrolled": true
   },
   "outputs": [],
   "source": [
    "exercise = sns.load_dataset(\"exercise\")\n",
    "exercise.head()"
   ]
  },
  {
   "cell_type": "code",
   "execution_count": null,
   "metadata": {
    "scrolled": true
   },
   "outputs": [],
   "source": [
    "sns.catplot(x=\"time\", y=\"pulse\", hue=\"kind\",\n",
    "                col=\"diet\", data=exercise,\n",
    "                height=5, aspect=.8)"
   ]
  },
  {
   "cell_type": "code",
   "execution_count": null,
   "metadata": {
    "scrolled": true
   },
   "outputs": [],
   "source": [
    "sns.catplot(x=\"class\", hue=\"who\", col=\"survived\",\n",
    "                data=titanic, kind=\"count\",\n",
    "                height=4, aspect=.7);"
   ]
  },
  {
   "cell_type": "code",
   "execution_count": null,
   "metadata": {},
   "outputs": [],
   "source": [
    "sns.catplot(x=\"alive\", col=\"deck\", col_wrap=4,\n",
    "                data=titanic[titanic.deck.notnull()],\n",
    "                kind=\"count\", height=2.5, aspect=.8)"
   ]
  },
  {
   "cell_type": "code",
   "execution_count": null,
   "metadata": {},
   "outputs": [],
   "source": []
  }
 ],
 "metadata": {
  "kernelspec": {
   "display_name": "Python 3",
   "language": "python",
   "name": "python3"
  },
  "language_info": {
   "codemirror_mode": {
    "name": "ipython",
    "version": 3
   },
   "file_extension": ".py",
   "mimetype": "text/x-python",
   "name": "python",
   "nbconvert_exporter": "python",
   "pygments_lexer": "ipython3",
   "version": "3.8.3"
  }
 },
 "nbformat": 4,
 "nbformat_minor": 4
}

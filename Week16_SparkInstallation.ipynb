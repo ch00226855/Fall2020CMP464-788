{
 "cells": [
  {
   "cell_type": "code",
   "execution_count": 1,
   "metadata": {},
   "outputs": [],
   "source": [
    "# Install pyspark\n",
    "# !pip install pyspark"
   ]
  },
  {
   "cell_type": "code",
   "execution_count": 2,
   "metadata": {},
   "outputs": [],
   "source": [
    "# Create a text file\n",
    "\n",
    "with open('spark.txt', 'w') as file:\n",
    "    file.write(\"Apache Spark is a unified analytics engine for large-scale data processing. It provides high-level APIs in Java, Scala, Python and R, and an optimized engine that supports general execution graphs. It also supports a rich set of higher-level tools including Spark SQL for SQL and structured data processing, MLlib for machine learning, GraphX for graph processing, and Structured Streaming for incremental computation and stream processing.\")"
   ]
  },
  {
   "cell_type": "code",
   "execution_count": 3,
   "metadata": {},
   "outputs": [],
   "source": [
    "from pyspark import SparkContext, SparkConf"
   ]
  },
  {
   "cell_type": "code",
   "execution_count": 4,
   "metadata": {},
   "outputs": [],
   "source": [
    "# create Spark context with necessary configuration\n",
    "sc = SparkContext(\"local\",\"PySpark Word Count Exmaple\")"
   ]
  },
  {
   "cell_type": "code",
   "execution_count": 5,
   "metadata": {},
   "outputs": [],
   "source": [
    "# read data from text file and split each line into words\n",
    "words = sc.textFile(\"spark.txt\").flatMap(lambda line: line.split(\" \"))"
   ]
  },
  {
   "cell_type": "code",
   "execution_count": 6,
   "metadata": {},
   "outputs": [
    {
     "name": "stdout",
     "output_type": "stream",
     "text": [
      "Apache: 1\n",
      "Spark: 2\n",
      "is: 1\n",
      "a: 2\n",
      "unified: 1\n",
      "analytics: 1\n",
      "engine: 2\n",
      "for: 5\n",
      "large-scale: 1\n",
      "data: 2\n",
      "processing.: 2\n",
      "It: 2\n",
      "provides: 1\n",
      "high-level: 1\n",
      "APIs: 1\n",
      "in: 1\n",
      "Java,: 1\n",
      "Scala,: 1\n",
      "Python: 1\n",
      "and: 5\n",
      "R,: 1\n",
      "an: 1\n",
      "optimized: 1\n",
      "that: 1\n",
      "supports: 2\n",
      "general: 1\n",
      "execution: 1\n",
      "graphs.: 1\n",
      "also: 1\n",
      "rich: 1\n",
      "set: 1\n",
      "of: 1\n",
      "higher-level: 1\n",
      "tools: 1\n",
      "including: 1\n",
      "SQL: 2\n",
      "structured: 1\n",
      "processing,: 2\n",
      "MLlib: 1\n",
      "machine: 1\n",
      "learning,: 1\n",
      "GraphX: 1\n",
      "graph: 1\n",
      "Structured: 1\n",
      "Streaming: 1\n",
      "incremental: 1\n",
      "computation: 1\n",
      "stream: 1\n"
     ]
    }
   ],
   "source": [
    "# count the occurrence of each word\n",
    "wordCounts = words.map(lambda word: (word, 1)).reduceByKey(lambda a,b:a + b)\n",
    "\n",
    "for (word, count) in wordCounts.collect():\n",
    "    print(\"{}: {}\".format(word, count))"
   ]
  },
  {
   "cell_type": "code",
   "execution_count": null,
   "metadata": {},
   "outputs": [],
   "source": []
  }
 ],
 "metadata": {
  "kernelspec": {
   "display_name": "Python 3",
   "language": "python",
   "name": "python3"
  },
  "language_info": {
   "codemirror_mode": {
    "name": "ipython",
    "version": 3
   },
   "file_extension": ".py",
   "mimetype": "text/x-python",
   "name": "python",
   "nbconvert_exporter": "python",
   "pygments_lexer": "ipython3",
   "version": "3.8.3"
  }
 },
 "nbformat": 4,
 "nbformat_minor": 4
}

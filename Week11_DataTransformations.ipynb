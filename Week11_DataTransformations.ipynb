{
 "cells": [
  {
   "cell_type": "markdown",
   "metadata": {},
   "source": [
    "# Week 11\n",
    "# Data Transformations\n"
   ]
  },
  {
   "cell_type": "markdown",
   "metadata": {},
   "source": [
    "## I. Remove Duplicates"
   ]
  },
  {
   "cell_type": "code",
   "execution_count": null,
   "metadata": {},
   "outputs": [],
   "source": [
    "import numpy as np\n",
    "import pandas as pd\n",
    "import matplotlib.pyplot as plt\n",
    "%matplotlib inline"
   ]
  },
  {
   "cell_type": "code",
   "execution_count": null,
   "metadata": {},
   "outputs": [],
   "source": [
    "data = pd.DataFrame({'k1': ['one', 'two'] * 3 + ['two'],\n",
    "                     'k2': [1, 1, 2, 3, 3, 4, 4]})\n",
    "data"
   ]
  },
  {
   "cell_type": "code",
   "execution_count": null,
   "metadata": {},
   "outputs": [],
   "source": [
    "# Identify duplicated rows\n",
    "data.duplicated()"
   ]
  },
  {
   "cell_type": "code",
   "execution_count": null,
   "metadata": {},
   "outputs": [],
   "source": [
    "# Drop duplicated rows\n",
    "data.drop_duplicates()"
   ]
  },
  {
   "cell_type": "code",
   "execution_count": null,
   "metadata": {},
   "outputs": [],
   "source": [
    "# Drop duplicated values from column k1\n",
    "data.drop_duplicates(['k2'])"
   ]
  },
  {
   "cell_type": "markdown",
   "metadata": {},
   "source": [
    "## II. Transform Data Using a Function or Mapping"
   ]
  },
  {
   "cell_type": "code",
   "execution_count": null,
   "metadata": {},
   "outputs": [],
   "source": [
    "data = pd.DataFrame({'food': ['bacon', 'pulled pork', 'bacon',\n",
    "                              'Pastrami', 'corned beef', 'Bacon',\n",
    "                              'pastrami', 'honey ham', 'nova lox'],\n",
    "                     'ounces': [4, 3, 12, 6, 7.5, 8, 3, 5, 6]})\n",
    "data"
   ]
  },
  {
   "cell_type": "code",
   "execution_count": null,
   "metadata": {},
   "outputs": [],
   "source": [
    "# Suppose that we want to map the meat type to the kind of animal:\n",
    "meat_to_animal = {\n",
    "  'bacon': 'pig',\n",
    "  'pulled pork': 'pig',\n",
    "  'pastrami': 'cow',\n",
    "  'corned beef': 'cow',\n",
    "  'honey ham': 'pig',\n",
    "  'nova lox': 'salmon'\n",
    "}"
   ]
  },
  {
   "cell_type": "code",
   "execution_count": null,
   "metadata": {},
   "outputs": [],
   "source": [
    "# To make matching simpler, change strings to lowercase first\n",
    "lowercased = data['food'].str.lower()\n",
    "# lowercased\n",
    "data['animal'] = lowercased.map(meat_to_animal)\n",
    "data"
   ]
  },
  {
   "cell_type": "code",
   "execution_count": null,
   "metadata": {},
   "outputs": [],
   "source": [
    "# We can also pass a function\n",
    "data['food'].map(lambda x: meat_to_animal[x.lower()])"
   ]
  },
  {
   "cell_type": "code",
   "execution_count": null,
   "metadata": {},
   "outputs": [],
   "source": [
    "# Lambda function: a simple way to write a short function\n",
    "def square(x):\n",
    "    return x * x\n",
    "square(2)"
   ]
  },
  {
   "cell_type": "code",
   "execution_count": null,
   "metadata": {},
   "outputs": [],
   "source": [
    "df = pd.DataFrame({'Col1': [1, 2, 3, 4]})\n",
    "\n",
    "df['Col2'] = df['Col1'].apply(square)\n",
    "df"
   ]
  },
  {
   "cell_type": "code",
   "execution_count": null,
   "metadata": {},
   "outputs": [],
   "source": [
    "df['Col3'] = df['Col1'].apply(lambda x: x ** 2)\n",
    "df"
   ]
  },
  {
   "cell_type": "markdown",
   "metadata": {},
   "source": [
    "## III. String Manipulation\n"
   ]
  },
  {
   "cell_type": "markdown",
   "metadata": {},
   "source": [
    "### 1. String Methods"
   ]
  },
  {
   "cell_type": "code",
   "execution_count": null,
   "metadata": {},
   "outputs": [],
   "source": [
    "# Use split() to separate a string\n",
    "string = \"a, b, c, d\"\n",
    "string.split(',')"
   ]
  },
  {
   "cell_type": "code",
   "execution_count": null,
   "metadata": {},
   "outputs": [],
   "source": [
    "# split() is often combined with strip to trim whitespace\n",
    "string_pieces = string.split(',')\n",
    "print(string_pieces)\n",
    "string_pieces_cleaned = [x.strip() for x in string_pieces]\n",
    "print(string_pieces_cleaned)"
   ]
  },
  {
   "cell_type": "code",
   "execution_count": null,
   "metadata": {},
   "outputs": [],
   "source": [
    "# Use + to concatenate strings\n",
    "string = \"I\" + \" \" + \"like\" + \" \" + \"pizza.\"\n",
    "print(string)"
   ]
  },
  {
   "cell_type": "code",
   "execution_count": null,
   "metadata": {},
   "outputs": [],
   "source": [
    "# Use join() to concatenate a list of strings with delimiter\n",
    "names = [\"Alex\", \"Brian\", \"Charlie\", \"Douglas\"]\n",
    "string = \", \".join(names)\n",
    "print(string)"
   ]
  },
  {
   "cell_type": "code",
   "execution_count": null,
   "metadata": {
    "scrolled": true
   },
   "outputs": [],
   "source": [
    "# Use index() and find() to detect a substring\n",
    "alphabet = \"ABCDEFGHIJKLMNOPQRSTUVWXYZ\"\n",
    "print(\"DEF\" in alphabet)\n",
    "print(alphabet.find(\"Alex\")) # find() will return -1 if the substring does not exist\n",
    "print(alphabet.index(\"DEF\"))\n",
    "# print(alphabet.find(\"abc\"))"
   ]
  },
  {
   "cell_type": "code",
   "execution_count": null,
   "metadata": {},
   "outputs": [],
   "source": [
    "# Extract the substring from alphabet starting at index 10, ending at index 20\n",
    "substring = alphabet[10:20]\n",
    "print(substring)"
   ]
  },
  {
   "cell_type": "code",
   "execution_count": null,
   "metadata": {},
   "outputs": [],
   "source": [
    "# count() returns the number of occurences of a substring\n",
    "print(alphabet.count(\"DEF\"))\n",
    "print(string.count(\" \"))"
   ]
  },
  {
   "cell_type": "code",
   "execution_count": null,
   "metadata": {},
   "outputs": [],
   "source": [
    "# replace() is used to replace a substring for another\n",
    "print(string.replace(\"Alex\", \"Alexander\"))"
   ]
  },
  {
   "cell_type": "code",
   "execution_count": null,
   "metadata": {},
   "outputs": [],
   "source": [
    "# replace() can also be used to delete a substring:\n",
    "print(string.replace(\", \", \"\"))"
   ]
  },
  {
   "cell_type": "markdown",
   "metadata": {},
   "source": [
    "### 2. Regular Expressions\n",
    "**Regular expressions** provide a flexible way to search or match complex string patterns in text.Python's built-in `re` module is responsible for applying regular expressions to string. Let's have a look at some examples."
   ]
  },
  {
   "cell_type": "code",
   "execution_count": null,
   "metadata": {},
   "outputs": [],
   "source": [
    "import re\n",
    "# Example 1: Split a string with a variable number of whitespace\n",
    "string = \"a  b    c    d \\t e  \\n  f   g\"\n",
    "print(string)\n",
    "# string.split(' ') # This does not work\n",
    "pieces = re.split('\\s+', string) # \\s represents the whitespace character, + means one or more.\n",
    "print(pieces)"
   ]
  },
  {
   "cell_type": "markdown",
   "metadata": {},
   "source": [
    "Useful `re` functions:\n",
    "- findall()\n",
    "- search()\n",
    "- split()\n",
    "- sub()"
   ]
  },
  {
   "cell_type": "code",
   "execution_count": null,
   "metadata": {},
   "outputs": [],
   "source": [
    "re.findall('\\s+', string)"
   ]
  },
  {
   "cell_type": "code",
   "execution_count": null,
   "metadata": {},
   "outputs": [],
   "source": [
    "match = re.search('\\s+', string)\n",
    "print(\"Substring:\", match.group())\n",
    "print(\"Location:\", match.span())\n",
    "print(\"Start:\", match.start())\n",
    "print(\"End:\", match.end())"
   ]
  },
  {
   "cell_type": "code",
   "execution_count": null,
   "metadata": {
    "scrolled": true
   },
   "outputs": [],
   "source": [
    "re.sub('\\s+', ',', string)"
   ]
  },
  {
   "cell_type": "markdown",
   "metadata": {},
   "source": [
    "**Construct a regular expression:**\n",
    "\n",
    "[Reference](https://medium.com/factory-mind/regex-tutorial-a-simple-cheatsheet-by-examples-649dc1c3f285)\n",
    "\n",
    "1. Anchors\n",
    "    - ^The: **Starts with** The\n",
    "    - day\\$: **Ends with** day\n",
    "2. Quantifiers:\n",
    "    - ab\\s\\*: ab followed by **zero or more** whitespaces\n",
    "    - ab\\s+: ab followed by **one or more** whitespaces\n",
    "    - ab\\s?: ab followed by **zero or one** whitespaces\n",
    "    - ab\\s{2}: ab followed by **exactly 2** whitespaces\n",
    "    - ab\\s{2, 5}: ab followed by **2 - 5** whitespaces\n",
    "    - ab\\s{2, }: ab followed by **2 or more** whitespaces\n",
    "3. OR operator\n",
    "    - a(b|c): a followed by **b or c**\n",
    "    - a[bc]: same as above\n",
    "4. Character classes\n",
    "    - \\d: a single digit\n",
    "    - \\w: a single letter or underscore\n",
    "    - \\s: a single whitespace\n",
    "    - .: any character\n",
    "    - \\D: a single non-digit\n",
    "    - \\W: a single character that is not a letter or underscore\n",
    "    - \\S: a single non-space\n",
    "5. Bracket expression\n",
    "    - [a-c]: a or b or c\n",
    "    - [0-7]: a digit between 0 and 7\n",
    "    - [^a-c]: a letter not a, b, or c\n",
    "6. Greedy match\n",
    "    - <*+{}>: any character included in <>, **expanding as far as possible**\n",
    "7. Capturing:\n",
    "    - a(bc): **capture** the group with value bc"
   ]
  },
  {
   "cell_type": "code",
   "execution_count": null,
   "metadata": {},
   "outputs": [],
   "source": [
    "# Example 1: Extract Social Security Number\n",
    "string = \"My SSN is: 123-45-6789\"\n",
    "pattern = \".*(\\d{3})-(\\d{2})-(\\d{4})\"\n",
    "regex = re.compile(pattern)\n",
    "match = regex.match(string)\n",
    "print(match.groups())"
   ]
  },
  {
   "cell_type": "code",
   "execution_count": null,
   "metadata": {},
   "outputs": [],
   "source": [
    "# Example 2: Extract phone numbers\n",
    "string = \"My phone number is: (347)123-4567\"\n"
   ]
  },
  {
   "cell_type": "code",
   "execution_count": null,
   "metadata": {},
   "outputs": [],
   "source": [
    "# Example 3: Validate an email addresses\n",
    "string1 = \"Liang.Zhao1@lehman.edu\"\n",
    "string2 = \"liang.Zhao1.cuny.edu\"\n",
    "pattern = \"^[a-z0-9]+[\\._]?[a-z0-9]+[@]\\w+[.]\\w+$\"\n",
    "regex = re.search(pattern, string1.lower())\n",
    "print(regex)"
   ]
  }
 ],
 "metadata": {
  "kernelspec": {
   "display_name": "Python 3",
   "language": "python",
   "name": "python3"
  },
  "language_info": {
   "codemirror_mode": {
    "name": "ipython",
    "version": 3
   },
   "file_extension": ".py",
   "mimetype": "text/x-python",
   "name": "python",
   "nbconvert_exporter": "python",
   "pygments_lexer": "ipython3",
   "version": "3.8.3"
  }
 },
 "nbformat": 4,
 "nbformat_minor": 2
}

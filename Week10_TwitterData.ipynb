{
 "cells": [
  {
   "cell_type": "markdown",
   "metadata": {},
   "source": [
    "# Week 10\n",
    "# Load Data using Web API\n",
    "\n",
    "Many websites (Twitter, Facebook, Kaggle, Reddit, ...) offer Application Programming Interfaces (APIs) which provide access to data on their web server. Today we will use Twitter API to download and analyze some tweets.\n",
    "\n",
    "**Get started with Twitter API:**\n",
    "\n",
    "1. Sign up on Twitter.\n",
    "2. Apply for [developer access](https://developer.twitter.com/en/apps).\n",
    "3. Create a Twitter app. (You can use lehman website for the placeholder on the urls)\n",
    "\n",
    "Reference:\n",
    "- [Twitter API Documentation](https://developer.twitter.com/en/docs/twitter-api)\n",
    "- [Tweepy Documentation](http://docs.tweepy.org/en/v3.9.0/index.html)"
   ]
  },
  {
   "cell_type": "code",
   "execution_count": null,
   "metadata": {},
   "outputs": [],
   "source": [
    "# Install tweepy package for Python\n",
    "# !pip install tweepy"
   ]
  },
  {
   "cell_type": "code",
   "execution_count": null,
   "metadata": {},
   "outputs": [],
   "source": [
    "import tweepy\n",
    "tweepy.__version__"
   ]
  },
  {
   "cell_type": "markdown",
   "metadata": {},
   "source": [
    "To learn more about the tweepy API, visit the [offical documentation](http://docs.tweepy.org/en/latest/getting_started.html)"
   ]
  },
  {
   "cell_type": "code",
   "execution_count": null,
   "metadata": {},
   "outputs": [],
   "source": [
    "# Copy and paste tokens from \"Keys and Access Tokens\" tab\n",
    "consumer_key = \"(Paste your token here)\"\n",
    "consumer_secret = \"(Paste your token here)\"\n",
    "access_token = \"(Paste your token here)\"\n",
    "access_token_secret = \"(Paste your token here)\""
   ]
  },
  {
   "cell_type": "code",
   "execution_count": null,
   "metadata": {},
   "outputs": [],
   "source": [
    "# User authentication\n",
    "auth = tweepy.OAuthHandler(consumer_key, consumer_secret)\n",
    "auth.set_access_token(access_token, access_token_secret)"
   ]
  },
  {
   "cell_type": "code",
   "execution_count": null,
   "metadata": {},
   "outputs": [],
   "source": [
    "# Create API object to access twitter data\n",
    "api = tweepy.API(auth)"
   ]
  },
  {
   "cell_type": "code",
   "execution_count": null,
   "metadata": {},
   "outputs": [],
   "source": [
    "# Post a tweet from Python\n",
    "api.update_status(\"I'm tweeting from #Python in my #DataScience class! @LehmanOCL\")"
   ]
  },
  {
   "cell_type": "markdown",
   "metadata": {},
   "source": [
    "## Task 1: Retrieve tweets from timeline"
   ]
  },
  {
   "cell_type": "code",
   "execution_count": null,
   "metadata": {},
   "outputs": [],
   "source": [
    "# My timeline\n",
    "public_tweets = api.home_timeline(tweet_mode = \"extended\")"
   ]
  },
  {
   "cell_type": "code",
   "execution_count": null,
   "metadata": {},
   "outputs": [],
   "source": [
    "# Look into one tweet data\n",
    "tweet = public_tweets[5]\n",
    "tweet"
   ]
  },
  {
   "cell_type": "code",
   "execution_count": null,
   "metadata": {},
   "outputs": [],
   "source": [
    "# the _json attribute contains info of the tweet\n",
    "tweet._json"
   ]
  },
  {
   "cell_type": "code",
   "execution_count": null,
   "metadata": {},
   "outputs": [],
   "source": [
    "# Use the _json attribute to infer some information\n",
    "obj = tweet._json\n",
    "# obj['created_at']\n",
    "obj['user']['name']"
   ]
  },
  {
   "cell_type": "code",
   "execution_count": null,
   "metadata": {
    "scrolled": true
   },
   "outputs": [],
   "source": [
    "# Find specific info\n",
    "print(tweet.full_text)\n",
    "print(tweet.author.name)\n",
    "print(tweet.created_at)\n",
    "print(tweet.author.location)"
   ]
  },
  {
   "cell_type": "code",
   "execution_count": null,
   "metadata": {},
   "outputs": [],
   "source": [
    "# Use api.home_timeline without setting tweet_mode=\"extended\" may result in truncated messages.\n",
    "tweets2 = api.home_timeline()"
   ]
  },
  {
   "cell_type": "code",
   "execution_count": null,
   "metadata": {},
   "outputs": [],
   "source": [
    "for idx in range(10):\n",
    "    print('-' * 80)\n",
    "    tweet = tweets2[idx]\n",
    "    print(tweet.author.name)\n",
    "    print(tweet.text)"
   ]
  },
  {
   "cell_type": "markdown",
   "metadata": {},
   "source": [
    "## Task 2: Retrieve Tweets from Another User"
   ]
  },
  {
   "cell_type": "code",
   "execution_count": null,
   "metadata": {},
   "outputs": [],
   "source": [
    "name = \"nytimes\"\n",
    "tweetCount = 20\n",
    "results = api.user_timeline(id=name, count=tweetCount, tweet_mode = \"extended\")"
   ]
  },
  {
   "cell_type": "code",
   "execution_count": null,
   "metadata": {},
   "outputs": [],
   "source": [
    "for tweet in results:\n",
    "    print('-' * 80)\n",
    "    print(tweet.full_text)"
   ]
  },
  {
   "cell_type": "markdown",
   "metadata": {},
   "source": [
    "## Task 3: Search for Tweets"
   ]
  },
  {
   "cell_type": "code",
   "execution_count": null,
   "metadata": {},
   "outputs": [],
   "source": [
    "search_words = \"wildfire -filter:retweets\"\n",
    "date_since = \"2020-10-01\"\n",
    "cursor = tweepy.Cursor(api.search,\n",
    "                       q=search_words,\n",
    "                       lang=\"en\",\n",
    "                       since=date_since,\n",
    "                       tweet_mode = \"extended\")"
   ]
  },
  {
   "cell_type": "code",
   "execution_count": null,
   "metadata": {},
   "outputs": [],
   "source": [
    "tweets = cursor.items(10)\n",
    "for tweet in tweets:\n",
    "    print('-' * 80)\n",
    "    print(tweet.full_text)\n",
    "    print(tweet.author.name)\n",
    "    print(tweet.author.location)\n",
    "    print(tweet.created_at)"
   ]
  },
  {
   "cell_type": "code",
   "execution_count": null,
   "metadata": {},
   "outputs": [],
   "source": [
    "# Create a Pandas DataFrame to store tweets, authors, and locations\n",
    "import pandas as pd\n",
    "\n",
    "# Create an empty data frame\n",
    "tweets_df = pd.DataFrame(columns=['Name', 'Location', 'Text'])\n",
    "tweets_df"
   ]
  },
  {
   "cell_type": "code",
   "execution_count": null,
   "metadata": {
    "scrolled": false
   },
   "outputs": [],
   "source": [
    "# Append tweets data to the data frame\n",
    "tweets = cursor.items(10)\n",
    "idx = 0\n",
    "for tweet in tweets:\n",
    "    tweets_df.loc[idx, :] = [tweet.author.name,\n",
    "                               tweet.author.location,\n",
    "                               tweet.full_text]\n",
    "    idx += 1\n",
    "                               \n",
    "tweets_df"
   ]
  },
  {
   "cell_type": "code",
   "execution_count": null,
   "metadata": {},
   "outputs": [],
   "source": []
  }
 ],
 "metadata": {
  "kernelspec": {
   "display_name": "Python 3",
   "language": "python",
   "name": "python3"
  },
  "language_info": {
   "codemirror_mode": {
    "name": "ipython",
    "version": 3
   },
   "file_extension": ".py",
   "mimetype": "text/x-python",
   "name": "python",
   "nbconvert_exporter": "python",
   "pygments_lexer": "ipython3",
   "version": "3.8.3"
  }
 },
 "nbformat": 4,
 "nbformat_minor": 2
}

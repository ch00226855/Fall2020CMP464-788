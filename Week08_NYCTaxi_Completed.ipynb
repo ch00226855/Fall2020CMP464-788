{
 "cells": [
  {
   "cell_type": "markdown",
   "metadata": {},
   "source": [
    "# Week 8\n",
    "# New York Taxi Trip Duration\n",
    "Today let's look at an actual data analysis challenge: analyzing NYC taxi trip durations. This was originally a competition on Kaggle in 2017."
   ]
  },
  {
   "cell_type": "markdown",
   "metadata": {},
   "source": [
    "## Data\n",
    "The data is available [here](https://www.kaggle.com/c/nyc-taxi-trip-duration/data).\n",
    "- Read the description of the data set.\n",
    "- Download the three zip files."
   ]
  },
  {
   "cell_type": "code",
   "execution_count": 1,
   "metadata": {},
   "outputs": [],
   "source": [
    "import numpy as np\n",
    "import pandas as pd\n",
    "import matplotlib.pyplot as plt\n",
    "import zipfile\n",
    "import folium\n",
    "# a command that allow figures to show automatically\n",
    "%matplotlib inline "
   ]
  },
  {
   "cell_type": "markdown",
   "metadata": {},
   "source": [
    "# Get to know the data\n",
    "The first step of data analysis is usually to collect overall information of the data sets:\n",
    "- Is the data set properly loaded?\n",
    "- What is the size of the data set?\n",
    "- What features are available? \n",
    "- What does each feature represent?\n",
    "- Which features are relavent to this project?"
   ]
  },
  {
   "cell_type": "code",
   "execution_count": 2,
   "metadata": {
    "scrolled": true
   },
   "outputs": [],
   "source": [
    "# Decompress train.zip\n",
    "# Load train.csv\n",
    "\n",
    "\n",
    "# unzip nyc-taxi-trip-duration.zip\n",
    "# NOTE: Change the path according to where your zip file is saved.\n",
    "file_name = \"C:\\\\Users\\\\lzhao\\\\Downloads\\\\nyc-taxi-trip-duration.zip\" # we use absolute path here\n",
    "        # Use \\\\ to represent the bask-slash character\n",
    "        # alternatively, we can use /\n",
    "        # \"C:/Users/lzhao/Downloads/nyc-taxi-trip-duration.zip\"\n",
    "f = zipfile.ZipFile(file_name, \"r\")\n",
    "f.printdir() # display the content\n",
    "f.extractall(\"Data/nyctaxi\")\n",
    "f.close()"
   ]
  },
  {
   "cell_type": "code",
   "execution_count": 3,
   "metadata": {},
   "outputs": [
    {
     "name": "stdout",
     "output_type": "stream",
     "text": [
      "File Name                                             Modified             Size\n",
      "train.csv                                      2017-07-19 11:26:56    200589097\n"
     ]
    }
   ],
   "source": [
    "# unzip train.zip\n",
    "f = zipfile.ZipFile(\"Data/nyctaxi/train.zip\", \"r\")\n",
    "f.printdir()\n",
    "f.extractall(\"Data/nyctaxi/\")\n",
    "f.close()"
   ]
  },
  {
   "cell_type": "code",
   "execution_count": 4,
   "metadata": {},
   "outputs": [
    {
     "data": {
      "text/html": [
       "<div>\n",
       "<style scoped>\n",
       "    .dataframe tbody tr th:only-of-type {\n",
       "        vertical-align: middle;\n",
       "    }\n",
       "\n",
       "    .dataframe tbody tr th {\n",
       "        vertical-align: top;\n",
       "    }\n",
       "\n",
       "    .dataframe thead th {\n",
       "        text-align: right;\n",
       "    }\n",
       "</style>\n",
       "<table border=\"1\" class=\"dataframe\">\n",
       "  <thead>\n",
       "    <tr style=\"text-align: right;\">\n",
       "      <th></th>\n",
       "      <th>id</th>\n",
       "      <th>vendor_id</th>\n",
       "      <th>pickup_datetime</th>\n",
       "      <th>dropoff_datetime</th>\n",
       "      <th>passenger_count</th>\n",
       "      <th>pickup_longitude</th>\n",
       "      <th>pickup_latitude</th>\n",
       "      <th>dropoff_longitude</th>\n",
       "      <th>dropoff_latitude</th>\n",
       "      <th>store_and_fwd_flag</th>\n",
       "      <th>trip_duration</th>\n",
       "    </tr>\n",
       "  </thead>\n",
       "  <tbody>\n",
       "    <tr>\n",
       "      <th>0</th>\n",
       "      <td>id2875421</td>\n",
       "      <td>2</td>\n",
       "      <td>2016-03-14 17:24:55</td>\n",
       "      <td>2016-03-14 17:32:30</td>\n",
       "      <td>1</td>\n",
       "      <td>-73.982155</td>\n",
       "      <td>40.767937</td>\n",
       "      <td>-73.964630</td>\n",
       "      <td>40.765602</td>\n",
       "      <td>N</td>\n",
       "      <td>455</td>\n",
       "    </tr>\n",
       "    <tr>\n",
       "      <th>1</th>\n",
       "      <td>id2377394</td>\n",
       "      <td>1</td>\n",
       "      <td>2016-06-12 00:43:35</td>\n",
       "      <td>2016-06-12 00:54:38</td>\n",
       "      <td>1</td>\n",
       "      <td>-73.980415</td>\n",
       "      <td>40.738564</td>\n",
       "      <td>-73.999481</td>\n",
       "      <td>40.731152</td>\n",
       "      <td>N</td>\n",
       "      <td>663</td>\n",
       "    </tr>\n",
       "    <tr>\n",
       "      <th>2</th>\n",
       "      <td>id3858529</td>\n",
       "      <td>2</td>\n",
       "      <td>2016-01-19 11:35:24</td>\n",
       "      <td>2016-01-19 12:10:48</td>\n",
       "      <td>1</td>\n",
       "      <td>-73.979027</td>\n",
       "      <td>40.763939</td>\n",
       "      <td>-74.005333</td>\n",
       "      <td>40.710087</td>\n",
       "      <td>N</td>\n",
       "      <td>2124</td>\n",
       "    </tr>\n",
       "    <tr>\n",
       "      <th>3</th>\n",
       "      <td>id3504673</td>\n",
       "      <td>2</td>\n",
       "      <td>2016-04-06 19:32:31</td>\n",
       "      <td>2016-04-06 19:39:40</td>\n",
       "      <td>1</td>\n",
       "      <td>-74.010040</td>\n",
       "      <td>40.719971</td>\n",
       "      <td>-74.012268</td>\n",
       "      <td>40.706718</td>\n",
       "      <td>N</td>\n",
       "      <td>429</td>\n",
       "    </tr>\n",
       "    <tr>\n",
       "      <th>4</th>\n",
       "      <td>id2181028</td>\n",
       "      <td>2</td>\n",
       "      <td>2016-03-26 13:30:55</td>\n",
       "      <td>2016-03-26 13:38:10</td>\n",
       "      <td>1</td>\n",
       "      <td>-73.973053</td>\n",
       "      <td>40.793209</td>\n",
       "      <td>-73.972923</td>\n",
       "      <td>40.782520</td>\n",
       "      <td>N</td>\n",
       "      <td>435</td>\n",
       "    </tr>\n",
       "  </tbody>\n",
       "</table>\n",
       "</div>"
      ],
      "text/plain": [
       "          id  vendor_id      pickup_datetime     dropoff_datetime  \\\n",
       "0  id2875421          2  2016-03-14 17:24:55  2016-03-14 17:32:30   \n",
       "1  id2377394          1  2016-06-12 00:43:35  2016-06-12 00:54:38   \n",
       "2  id3858529          2  2016-01-19 11:35:24  2016-01-19 12:10:48   \n",
       "3  id3504673          2  2016-04-06 19:32:31  2016-04-06 19:39:40   \n",
       "4  id2181028          2  2016-03-26 13:30:55  2016-03-26 13:38:10   \n",
       "\n",
       "   passenger_count  pickup_longitude  pickup_latitude  dropoff_longitude  \\\n",
       "0                1        -73.982155        40.767937         -73.964630   \n",
       "1                1        -73.980415        40.738564         -73.999481   \n",
       "2                1        -73.979027        40.763939         -74.005333   \n",
       "3                1        -74.010040        40.719971         -74.012268   \n",
       "4                1        -73.973053        40.793209         -73.972923   \n",
       "\n",
       "   dropoff_latitude store_and_fwd_flag  trip_duration  \n",
       "0         40.765602                  N            455  \n",
       "1         40.731152                  N            663  \n",
       "2         40.710087                  N           2124  \n",
       "3         40.706718                  N            429  \n",
       "4         40.782520                  N            435  "
      ]
     },
     "execution_count": 4,
     "metadata": {},
     "output_type": "execute_result"
    }
   ],
   "source": [
    "# Load the training data set\n",
    "raw_data = pd.read_csv(\"Data/nyctaxi/train.csv\", sep=',')\n",
    "raw_data.head()"
   ]
  },
  {
   "cell_type": "code",
   "execution_count": 5,
   "metadata": {},
   "outputs": [],
   "source": [
    "# raw_data.tail() # shows the last several rows\n",
    "# raw_data.sample(5) # shows some randomly sampled rows"
   ]
  },
  {
   "cell_type": "code",
   "execution_count": 6,
   "metadata": {},
   "outputs": [
    {
     "name": "stdout",
     "output_type": "stream",
     "text": [
      "(1458644, 11)\n"
     ]
    }
   ],
   "source": [
    "# Display the size of the data set\n",
    "print(raw_data.shape)\n",
    "# If processing all 1.5 million records is challenging for your computer, \n",
    "# create a smaller sampled data set.\n",
    "# sub_set = raw_data.sample(10000)"
   ]
  },
  {
   "cell_type": "code",
   "execution_count": 7,
   "metadata": {},
   "outputs": [
    {
     "name": "stdout",
     "output_type": "stream",
     "text": [
      "Index(['id', 'vendor_id', 'pickup_datetime', 'dropoff_datetime',\n",
      "       'passenger_count', 'pickup_longitude', 'pickup_latitude',\n",
      "       'dropoff_longitude', 'dropoff_latitude', 'store_and_fwd_flag',\n",
      "       'trip_duration'],\n",
      "      dtype='object')\n"
     ]
    }
   ],
   "source": [
    "# Display feature names\n",
    "print(raw_data.columns)"
   ]
  },
  {
   "cell_type": "code",
   "execution_count": 8,
   "metadata": {},
   "outputs": [
    {
     "name": "stdout",
     "output_type": "stream",
     "text": [
      "id                     object\n",
      "vendor_id               int64\n",
      "pickup_datetime        object\n",
      "dropoff_datetime       object\n",
      "passenger_count         int64\n",
      "pickup_longitude      float64\n",
      "pickup_latitude       float64\n",
      "dropoff_longitude     float64\n",
      "dropoff_latitude      float64\n",
      "store_and_fwd_flag     object\n",
      "trip_duration           int64\n",
      "dtype: object\n"
     ]
    }
   ],
   "source": [
    "# Display their data types\n",
    "print(raw_data.dtypes)"
   ]
  },
  {
   "cell_type": "code",
   "execution_count": 9,
   "metadata": {
    "scrolled": true
   },
   "outputs": [
    {
     "name": "stdout",
     "output_type": "stream",
     "text": [
      "id                            object\n",
      "vendor_id                      int64\n",
      "pickup_datetime       datetime64[ns]\n",
      "dropoff_datetime      datetime64[ns]\n",
      "passenger_count                int64\n",
      "pickup_longitude             float64\n",
      "pickup_latitude              float64\n",
      "dropoff_longitude            float64\n",
      "dropoff_latitude             float64\n",
      "store_and_fwd_flag            object\n",
      "trip_duration                  int64\n",
      "dtype: object\n"
     ]
    }
   ],
   "source": [
    "# Change the data type of the datetime columns\n",
    "raw_data['pickup_datetime'] = raw_data['pickup_datetime'].astype(np.datetime64)\n",
    "raw_data['dropoff_datetime'] = raw_data['dropoff_datetime'].astype(np.datetime64)\n",
    "\n",
    "print(raw_data.dtypes)"
   ]
  },
  {
   "cell_type": "code",
   "execution_count": 10,
   "metadata": {},
   "outputs": [],
   "source": [
    "# It is recommended that we create a function to do all the operations above\n",
    "# def load_taxi_data():\n",
    "#     #######\n",
    "#     return raw_data\n",
    "\n",
    "# raw_data = load_taxi_data()"
   ]
  },
  {
   "cell_type": "markdown",
   "metadata": {},
   "source": [
    "# Examine each relavent feature\n",
    "- Any missing values?\n",
    "- The distribution of the data? (histogram / frequency counts)\n",
    "- Any outliers? Can they be mistakes or something special?\n",
    "- Consistency check\n",
    "    - Is dropoff_time always greater than pickup_time?\n",
    "    - Is the difference between dropoff_time and pickup_time equal to trip_duration?\n",
    "    - Is the difference between dropoff_time and pickup_time too large to be accurate?\n",
    "    - Is the difference between dropoff_time and pickup_time too small to be accurate?"
   ]
  },
  {
   "cell_type": "code",
   "execution_count": 11,
   "metadata": {},
   "outputs": [
    {
     "data": {
      "text/plain": [
       "id                    0\n",
       "vendor_id             0\n",
       "pickup_datetime       0\n",
       "dropoff_datetime      0\n",
       "passenger_count       0\n",
       "pickup_longitude      0\n",
       "pickup_latitude       0\n",
       "dropoff_longitude     0\n",
       "dropoff_latitude      0\n",
       "store_and_fwd_flag    0\n",
       "trip_duration         0\n",
       "dtype: int64"
      ]
     },
     "execution_count": 11,
     "metadata": {},
     "output_type": "execute_result"
    }
   ],
   "source": [
    "# Check for missing values\n",
    "raw_data.isnull().sum()\n",
    "# Luckily, there are no missing values."
   ]
  },
  {
   "cell_type": "code",
   "execution_count": 12,
   "metadata": {},
   "outputs": [
    {
     "data": {
      "text/html": [
       "<div>\n",
       "<style scoped>\n",
       "    .dataframe tbody tr th:only-of-type {\n",
       "        vertical-align: middle;\n",
       "    }\n",
       "\n",
       "    .dataframe tbody tr th {\n",
       "        vertical-align: top;\n",
       "    }\n",
       "\n",
       "    .dataframe thead th {\n",
       "        text-align: right;\n",
       "    }\n",
       "</style>\n",
       "<table border=\"1\" class=\"dataframe\">\n",
       "  <thead>\n",
       "    <tr style=\"text-align: right;\">\n",
       "      <th></th>\n",
       "      <th>vendor_id</th>\n",
       "      <th>passenger_count</th>\n",
       "      <th>pickup_longitude</th>\n",
       "      <th>pickup_latitude</th>\n",
       "      <th>dropoff_longitude</th>\n",
       "      <th>dropoff_latitude</th>\n",
       "      <th>trip_duration</th>\n",
       "    </tr>\n",
       "  </thead>\n",
       "  <tbody>\n",
       "    <tr>\n",
       "      <th>count</th>\n",
       "      <td>1.458644e+06</td>\n",
       "      <td>1.458644e+06</td>\n",
       "      <td>1.458644e+06</td>\n",
       "      <td>1.458644e+06</td>\n",
       "      <td>1.458644e+06</td>\n",
       "      <td>1.458644e+06</td>\n",
       "      <td>1.458644e+06</td>\n",
       "    </tr>\n",
       "    <tr>\n",
       "      <th>mean</th>\n",
       "      <td>1.534950e+00</td>\n",
       "      <td>1.664530e+00</td>\n",
       "      <td>-7.397349e+01</td>\n",
       "      <td>4.075092e+01</td>\n",
       "      <td>-7.397342e+01</td>\n",
       "      <td>4.075180e+01</td>\n",
       "      <td>9.594923e+02</td>\n",
       "    </tr>\n",
       "    <tr>\n",
       "      <th>std</th>\n",
       "      <td>4.987772e-01</td>\n",
       "      <td>1.314242e+00</td>\n",
       "      <td>7.090186e-02</td>\n",
       "      <td>3.288119e-02</td>\n",
       "      <td>7.064327e-02</td>\n",
       "      <td>3.589056e-02</td>\n",
       "      <td>5.237432e+03</td>\n",
       "    </tr>\n",
       "    <tr>\n",
       "      <th>min</th>\n",
       "      <td>1.000000e+00</td>\n",
       "      <td>0.000000e+00</td>\n",
       "      <td>-1.219333e+02</td>\n",
       "      <td>3.435970e+01</td>\n",
       "      <td>-1.219333e+02</td>\n",
       "      <td>3.218114e+01</td>\n",
       "      <td>1.000000e+00</td>\n",
       "    </tr>\n",
       "    <tr>\n",
       "      <th>25%</th>\n",
       "      <td>1.000000e+00</td>\n",
       "      <td>1.000000e+00</td>\n",
       "      <td>-7.399187e+01</td>\n",
       "      <td>4.073735e+01</td>\n",
       "      <td>-7.399133e+01</td>\n",
       "      <td>4.073588e+01</td>\n",
       "      <td>3.970000e+02</td>\n",
       "    </tr>\n",
       "    <tr>\n",
       "      <th>50%</th>\n",
       "      <td>2.000000e+00</td>\n",
       "      <td>1.000000e+00</td>\n",
       "      <td>-7.398174e+01</td>\n",
       "      <td>4.075410e+01</td>\n",
       "      <td>-7.397975e+01</td>\n",
       "      <td>4.075452e+01</td>\n",
       "      <td>6.620000e+02</td>\n",
       "    </tr>\n",
       "    <tr>\n",
       "      <th>75%</th>\n",
       "      <td>2.000000e+00</td>\n",
       "      <td>2.000000e+00</td>\n",
       "      <td>-7.396733e+01</td>\n",
       "      <td>4.076836e+01</td>\n",
       "      <td>-7.396301e+01</td>\n",
       "      <td>4.076981e+01</td>\n",
       "      <td>1.075000e+03</td>\n",
       "    </tr>\n",
       "    <tr>\n",
       "      <th>max</th>\n",
       "      <td>2.000000e+00</td>\n",
       "      <td>9.000000e+00</td>\n",
       "      <td>-6.133553e+01</td>\n",
       "      <td>5.188108e+01</td>\n",
       "      <td>-6.133553e+01</td>\n",
       "      <td>4.392103e+01</td>\n",
       "      <td>3.526282e+06</td>\n",
       "    </tr>\n",
       "  </tbody>\n",
       "</table>\n",
       "</div>"
      ],
      "text/plain": [
       "          vendor_id  passenger_count  pickup_longitude  pickup_latitude  \\\n",
       "count  1.458644e+06     1.458644e+06      1.458644e+06     1.458644e+06   \n",
       "mean   1.534950e+00     1.664530e+00     -7.397349e+01     4.075092e+01   \n",
       "std    4.987772e-01     1.314242e+00      7.090186e-02     3.288119e-02   \n",
       "min    1.000000e+00     0.000000e+00     -1.219333e+02     3.435970e+01   \n",
       "25%    1.000000e+00     1.000000e+00     -7.399187e+01     4.073735e+01   \n",
       "50%    2.000000e+00     1.000000e+00     -7.398174e+01     4.075410e+01   \n",
       "75%    2.000000e+00     2.000000e+00     -7.396733e+01     4.076836e+01   \n",
       "max    2.000000e+00     9.000000e+00     -6.133553e+01     5.188108e+01   \n",
       "\n",
       "       dropoff_longitude  dropoff_latitude  trip_duration  \n",
       "count       1.458644e+06      1.458644e+06   1.458644e+06  \n",
       "mean       -7.397342e+01      4.075180e+01   9.594923e+02  \n",
       "std         7.064327e-02      3.589056e-02   5.237432e+03  \n",
       "min        -1.219333e+02      3.218114e+01   1.000000e+00  \n",
       "25%        -7.399133e+01      4.073588e+01   3.970000e+02  \n",
       "50%        -7.397975e+01      4.075452e+01   6.620000e+02  \n",
       "75%        -7.396301e+01      4.076981e+01   1.075000e+03  \n",
       "max        -6.133553e+01      4.392103e+01   3.526282e+06  "
      ]
     },
     "execution_count": 12,
     "metadata": {},
     "output_type": "execute_result"
    }
   ],
   "source": [
    "# Find min, max, mean, median of the features.\n",
    "\n",
    "raw_data.describe()"
   ]
  },
  {
   "cell_type": "code",
   "execution_count": 13,
   "metadata": {},
   "outputs": [
    {
     "data": {
      "text/plain": [
       "<matplotlib.axes._subplots.AxesSubplot at 0x1643633ea90>"
      ]
     },
     "execution_count": 13,
     "metadata": {},
     "output_type": "execute_result"
    },
    {
     "data": {
      "image/png": "[encoded data removed]",
      "text/plain": [
       "<Figure size 432x288 with 1 Axes>"
      ]
     },
     "metadata": {
      "needs_background": "light"
     },
     "output_type": "display_data"
    }
   ],
   "source": [
    "# Examine trip durations\n",
    "# Create a histogram of trip durations\n",
    "raw_data['trip_duration'].hist()\n",
    "# raw_data['trip_duration'].plot.hist()"
   ]
  },
  {
   "cell_type": "code",
   "execution_count": 14,
   "metadata": {},
   "outputs": [
    {
     "data": {
      "text/html": [
       "<div>\n",
       "<style scoped>\n",
       "    .dataframe tbody tr th:only-of-type {\n",
       "        vertical-align: middle;\n",
       "    }\n",
       "\n",
       "    .dataframe tbody tr th {\n",
       "        vertical-align: top;\n",
       "    }\n",
       "\n",
       "    .dataframe thead th {\n",
       "        text-align: right;\n",
       "    }\n",
       "</style>\n",
       "<table border=\"1\" class=\"dataframe\">\n",
       "  <thead>\n",
       "    <tr style=\"text-align: right;\">\n",
       "      <th></th>\n",
       "      <th>id</th>\n",
       "      <th>vendor_id</th>\n",
       "      <th>pickup_datetime</th>\n",
       "      <th>dropoff_datetime</th>\n",
       "      <th>passenger_count</th>\n",
       "      <th>pickup_longitude</th>\n",
       "      <th>pickup_latitude</th>\n",
       "      <th>dropoff_longitude</th>\n",
       "      <th>dropoff_latitude</th>\n",
       "      <th>store_and_fwd_flag</th>\n",
       "      <th>trip_duration</th>\n",
       "    </tr>\n",
       "  </thead>\n",
       "  <tbody>\n",
       "    <tr>\n",
       "      <th>978383</th>\n",
       "      <td>id0053347</td>\n",
       "      <td>1</td>\n",
       "      <td>2016-02-13 22:46:52</td>\n",
       "      <td>2016-03-25 18:18:14</td>\n",
       "      <td>1</td>\n",
       "      <td>-73.783905</td>\n",
       "      <td>40.648632</td>\n",
       "      <td>-73.978271</td>\n",
       "      <td>40.750202</td>\n",
       "      <td>N</td>\n",
       "      <td>3526282</td>\n",
       "    </tr>\n",
       "    <tr>\n",
       "      <th>924150</th>\n",
       "      <td>id1325766</td>\n",
       "      <td>1</td>\n",
       "      <td>2016-01-05 06:14:15</td>\n",
       "      <td>2016-01-31 01:01:07</td>\n",
       "      <td>1</td>\n",
       "      <td>-73.983788</td>\n",
       "      <td>40.742325</td>\n",
       "      <td>-73.985489</td>\n",
       "      <td>40.727676</td>\n",
       "      <td>N</td>\n",
       "      <td>2227612</td>\n",
       "    </tr>\n",
       "    <tr>\n",
       "      <th>680594</th>\n",
       "      <td>id0369307</td>\n",
       "      <td>1</td>\n",
       "      <td>2016-02-13 22:38:00</td>\n",
       "      <td>2016-03-08 15:57:38</td>\n",
       "      <td>2</td>\n",
       "      <td>-73.921677</td>\n",
       "      <td>40.735252</td>\n",
       "      <td>-73.984749</td>\n",
       "      <td>40.759979</td>\n",
       "      <td>N</td>\n",
       "      <td>2049578</td>\n",
       "    </tr>\n",
       "    <tr>\n",
       "      <th>355003</th>\n",
       "      <td>id1864733</td>\n",
       "      <td>1</td>\n",
       "      <td>2016-01-05 00:19:42</td>\n",
       "      <td>2016-01-27 11:08:38</td>\n",
       "      <td>1</td>\n",
       "      <td>-73.789650</td>\n",
       "      <td>40.643559</td>\n",
       "      <td>-73.956810</td>\n",
       "      <td>40.773087</td>\n",
       "      <td>N</td>\n",
       "      <td>1939736</td>\n",
       "    </tr>\n",
       "    <tr>\n",
       "      <th>1234291</th>\n",
       "      <td>id1942836</td>\n",
       "      <td>2</td>\n",
       "      <td>2016-02-15 23:18:06</td>\n",
       "      <td>2016-02-16 23:17:58</td>\n",
       "      <td>2</td>\n",
       "      <td>-73.794525</td>\n",
       "      <td>40.644825</td>\n",
       "      <td>-73.991051</td>\n",
       "      <td>40.755573</td>\n",
       "      <td>N</td>\n",
       "      <td>86392</td>\n",
       "    </tr>\n",
       "    <tr>\n",
       "      <th>295382</th>\n",
       "      <td>id0593332</td>\n",
       "      <td>2</td>\n",
       "      <td>2016-05-31 13:00:39</td>\n",
       "      <td>2016-06-01 13:00:30</td>\n",
       "      <td>1</td>\n",
       "      <td>-73.781952</td>\n",
       "      <td>40.644688</td>\n",
       "      <td>-73.993874</td>\n",
       "      <td>40.745926</td>\n",
       "      <td>N</td>\n",
       "      <td>86391</td>\n",
       "    </tr>\n",
       "    <tr>\n",
       "      <th>73816</th>\n",
       "      <td>id0953667</td>\n",
       "      <td>2</td>\n",
       "      <td>2016-05-06 00:00:10</td>\n",
       "      <td>2016-05-07 00:00:00</td>\n",
       "      <td>1</td>\n",
       "      <td>-73.996010</td>\n",
       "      <td>40.753220</td>\n",
       "      <td>-73.979027</td>\n",
       "      <td>40.740601</td>\n",
       "      <td>N</td>\n",
       "      <td>86390</td>\n",
       "    </tr>\n",
       "    <tr>\n",
       "      <th>59891</th>\n",
       "      <td>id2837671</td>\n",
       "      <td>2</td>\n",
       "      <td>2016-06-30 16:37:52</td>\n",
       "      <td>2016-07-01 16:37:39</td>\n",
       "      <td>1</td>\n",
       "      <td>-73.992279</td>\n",
       "      <td>40.749729</td>\n",
       "      <td>-73.962524</td>\n",
       "      <td>40.800770</td>\n",
       "      <td>N</td>\n",
       "      <td>86387</td>\n",
       "    </tr>\n",
       "    <tr>\n",
       "      <th>1360439</th>\n",
       "      <td>id1358458</td>\n",
       "      <td>2</td>\n",
       "      <td>2016-06-23 16:01:45</td>\n",
       "      <td>2016-06-24 16:01:30</td>\n",
       "      <td>1</td>\n",
       "      <td>-73.782089</td>\n",
       "      <td>40.644806</td>\n",
       "      <td>-73.985016</td>\n",
       "      <td>40.666828</td>\n",
       "      <td>N</td>\n",
       "      <td>86385</td>\n",
       "    </tr>\n",
       "    <tr>\n",
       "      <th>753765</th>\n",
       "      <td>id2589925</td>\n",
       "      <td>2</td>\n",
       "      <td>2016-05-17 22:22:56</td>\n",
       "      <td>2016-05-18 22:22:35</td>\n",
       "      <td>4</td>\n",
       "      <td>-74.006111</td>\n",
       "      <td>40.734680</td>\n",
       "      <td>-73.958809</td>\n",
       "      <td>40.815449</td>\n",
       "      <td>N</td>\n",
       "      <td>86379</td>\n",
       "    </tr>\n",
       "    <tr>\n",
       "      <th>1221666</th>\n",
       "      <td>id3346235</td>\n",
       "      <td>2</td>\n",
       "      <td>2016-05-09 15:59:04</td>\n",
       "      <td>2016-05-10 15:58:42</td>\n",
       "      <td>5</td>\n",
       "      <td>-73.982658</td>\n",
       "      <td>40.761963</td>\n",
       "      <td>-73.988976</td>\n",
       "      <td>40.743023</td>\n",
       "      <td>N</td>\n",
       "      <td>86378</td>\n",
       "    </tr>\n",
       "    <tr>\n",
       "      <th>91717</th>\n",
       "      <td>id3782820</td>\n",
       "      <td>2</td>\n",
       "      <td>2016-05-12 13:48:19</td>\n",
       "      <td>2016-05-13 13:47:57</td>\n",
       "      <td>1</td>\n",
       "      <td>-73.781990</td>\n",
       "      <td>40.644722</td>\n",
       "      <td>-73.980675</td>\n",
       "      <td>40.724918</td>\n",
       "      <td>N</td>\n",
       "      <td>86378</td>\n",
       "    </tr>\n",
       "    <tr>\n",
       "      <th>1138915</th>\n",
       "      <td>id1565504</td>\n",
       "      <td>2</td>\n",
       "      <td>2016-06-24 22:22:12</td>\n",
       "      <td>2016-06-25 22:21:49</td>\n",
       "      <td>6</td>\n",
       "      <td>-73.789696</td>\n",
       "      <td>40.643574</td>\n",
       "      <td>-74.001190</td>\n",
       "      <td>40.721466</td>\n",
       "      <td>N</td>\n",
       "      <td>86377</td>\n",
       "    </tr>\n",
       "    <tr>\n",
       "      <th>66346</th>\n",
       "      <td>id2307896</td>\n",
       "      <td>2</td>\n",
       "      <td>2016-05-14 04:48:05</td>\n",
       "      <td>2016-05-15 04:47:42</td>\n",
       "      <td>1</td>\n",
       "      <td>-74.000504</td>\n",
       "      <td>40.732121</td>\n",
       "      <td>-73.994202</td>\n",
       "      <td>40.712418</td>\n",
       "      <td>N</td>\n",
       "      <td>86377</td>\n",
       "    </tr>\n",
       "    <tr>\n",
       "      <th>1284067</th>\n",
       "      <td>id1278306</td>\n",
       "      <td>2</td>\n",
       "      <td>2016-02-25 15:17:29</td>\n",
       "      <td>2016-02-26 15:16:58</td>\n",
       "      <td>1</td>\n",
       "      <td>-73.974281</td>\n",
       "      <td>40.762402</td>\n",
       "      <td>-73.988472</td>\n",
       "      <td>40.759548</td>\n",
       "      <td>N</td>\n",
       "      <td>86369</td>\n",
       "    </tr>\n",
       "    <tr>\n",
       "      <th>779030</th>\n",
       "      <td>id2945617</td>\n",
       "      <td>2</td>\n",
       "      <td>2016-05-26 14:55:11</td>\n",
       "      <td>2016-05-27 14:54:40</td>\n",
       "      <td>6</td>\n",
       "      <td>-73.992996</td>\n",
       "      <td>40.753071</td>\n",
       "      <td>-73.977242</td>\n",
       "      <td>40.765148</td>\n",
       "      <td>N</td>\n",
       "      <td>86369</td>\n",
       "    </tr>\n",
       "    <tr>\n",
       "      <th>172662</th>\n",
       "      <td>id1797529</td>\n",
       "      <td>2</td>\n",
       "      <td>2016-01-17 20:27:56</td>\n",
       "      <td>2016-01-18 20:27:25</td>\n",
       "      <td>1</td>\n",
       "      <td>-73.975540</td>\n",
       "      <td>40.789719</td>\n",
       "      <td>-73.978920</td>\n",
       "      <td>40.777836</td>\n",
       "      <td>N</td>\n",
       "      <td>86369</td>\n",
       "    </tr>\n",
       "    <tr>\n",
       "      <th>1269316</th>\n",
       "      <td>id3045292</td>\n",
       "      <td>2</td>\n",
       "      <td>2016-02-20 02:36:09</td>\n",
       "      <td>2016-02-21 02:35:38</td>\n",
       "      <td>1</td>\n",
       "      <td>-73.978783</td>\n",
       "      <td>40.731056</td>\n",
       "      <td>-73.997871</td>\n",
       "      <td>40.716831</td>\n",
       "      <td>N</td>\n",
       "      <td>86369</td>\n",
       "    </tr>\n",
       "    <tr>\n",
       "      <th>1233528</th>\n",
       "      <td>id2100069</td>\n",
       "      <td>2</td>\n",
       "      <td>2016-02-20 09:00:39</td>\n",
       "      <td>2016-02-21 09:00:06</td>\n",
       "      <td>5</td>\n",
       "      <td>-73.966072</td>\n",
       "      <td>40.773960</td>\n",
       "      <td>-73.983414</td>\n",
       "      <td>40.762760</td>\n",
       "      <td>N</td>\n",
       "      <td>86367</td>\n",
       "    </tr>\n",
       "    <tr>\n",
       "      <th>1213613</th>\n",
       "      <td>id3856625</td>\n",
       "      <td>2</td>\n",
       "      <td>2016-06-06 13:40:22</td>\n",
       "      <td>2016-06-07 13:39:49</td>\n",
       "      <td>1</td>\n",
       "      <td>-73.976395</td>\n",
       "      <td>40.739712</td>\n",
       "      <td>-73.984245</td>\n",
       "      <td>40.733238</td>\n",
       "      <td>N</td>\n",
       "      <td>86367</td>\n",
       "    </tr>\n",
       "  </tbody>\n",
       "</table>\n",
       "</div>"
      ],
      "text/plain": [
       "                id  vendor_id     pickup_datetime    dropoff_datetime  \\\n",
       "978383   id0053347          1 2016-02-13 22:46:52 2016-03-25 18:18:14   \n",
       "924150   id1325766          1 2016-01-05 06:14:15 2016-01-31 01:01:07   \n",
       "680594   id0369307          1 2016-02-13 22:38:00 2016-03-08 15:57:38   \n",
       "355003   id1864733          1 2016-01-05 00:19:42 2016-01-27 11:08:38   \n",
       "1234291  id1942836          2 2016-02-15 23:18:06 2016-02-16 23:17:58   \n",
       "295382   id0593332          2 2016-05-31 13:00:39 2016-06-01 13:00:30   \n",
       "73816    id0953667          2 2016-05-06 00:00:10 2016-05-07 00:00:00   \n",
       "59891    id2837671          2 2016-06-30 16:37:52 2016-07-01 16:37:39   \n",
       "1360439  id1358458          2 2016-06-23 16:01:45 2016-06-24 16:01:30   \n",
       "753765   id2589925          2 2016-05-17 22:22:56 2016-05-18 22:22:35   \n",
       "1221666  id3346235          2 2016-05-09 15:59:04 2016-05-10 15:58:42   \n",
       "91717    id3782820          2 2016-05-12 13:48:19 2016-05-13 13:47:57   \n",
       "1138915  id1565504          2 2016-06-24 22:22:12 2016-06-25 22:21:49   \n",
       "66346    id2307896          2 2016-05-14 04:48:05 2016-05-15 04:47:42   \n",
       "1284067  id1278306          2 2016-02-25 15:17:29 2016-02-26 15:16:58   \n",
       "779030   id2945617          2 2016-05-26 14:55:11 2016-05-27 14:54:40   \n",
       "172662   id1797529          2 2016-01-17 20:27:56 2016-01-18 20:27:25   \n",
       "1269316  id3045292          2 2016-02-20 02:36:09 2016-02-21 02:35:38   \n",
       "1233528  id2100069          2 2016-02-20 09:00:39 2016-02-21 09:00:06   \n",
       "1213613  id3856625          2 2016-06-06 13:40:22 2016-06-07 13:39:49   \n",
       "\n",
       "         passenger_count  pickup_longitude  pickup_latitude  \\\n",
       "978383                 1        -73.783905        40.648632   \n",
       "924150                 1        -73.983788        40.742325   \n",
       "680594                 2        -73.921677        40.735252   \n",
       "355003                 1        -73.789650        40.643559   \n",
       "1234291                2        -73.794525        40.644825   \n",
       "295382                 1        -73.781952        40.644688   \n",
       "73816                  1        -73.996010        40.753220   \n",
       "59891                  1        -73.992279        40.749729   \n",
       "1360439                1        -73.782089        40.644806   \n",
       "753765                 4        -74.006111        40.734680   \n",
       "1221666                5        -73.982658        40.761963   \n",
       "91717                  1        -73.781990        40.644722   \n",
       "1138915                6        -73.789696        40.643574   \n",
       "66346                  1        -74.000504        40.732121   \n",
       "1284067                1        -73.974281        40.762402   \n",
       "779030                 6        -73.992996        40.753071   \n",
       "172662                 1        -73.975540        40.789719   \n",
       "1269316                1        -73.978783        40.731056   \n",
       "1233528                5        -73.966072        40.773960   \n",
       "1213613                1        -73.976395        40.739712   \n",
       "\n",
       "         dropoff_longitude  dropoff_latitude store_and_fwd_flag  trip_duration  \n",
       "978383          -73.978271         40.750202                  N        3526282  \n",
       "924150          -73.985489         40.727676                  N        2227612  \n",
       "680594          -73.984749         40.759979                  N        2049578  \n",
       "355003          -73.956810         40.773087                  N        1939736  \n",
       "1234291         -73.991051         40.755573                  N          86392  \n",
       "295382          -73.993874         40.745926                  N          86391  \n",
       "73816           -73.979027         40.740601                  N          86390  \n",
       "59891           -73.962524         40.800770                  N          86387  \n",
       "1360439         -73.985016         40.666828                  N          86385  \n",
       "753765          -73.958809         40.815449                  N          86379  \n",
       "1221666         -73.988976         40.743023                  N          86378  \n",
       "91717           -73.980675         40.724918                  N          86378  \n",
       "1138915         -74.001190         40.721466                  N          86377  \n",
       "66346           -73.994202         40.712418                  N          86377  \n",
       "1284067         -73.988472         40.759548                  N          86369  \n",
       "779030          -73.977242         40.765148                  N          86369  \n",
       "172662          -73.978920         40.777836                  N          86369  \n",
       "1269316         -73.997871         40.716831                  N          86369  \n",
       "1233528         -73.983414         40.762760                  N          86367  \n",
       "1213613         -73.984245         40.733238                  N          86367  "
      ]
     },
     "execution_count": 14,
     "metadata": {},
     "output_type": "execute_result"
    }
   ],
   "source": [
    "# Investigate outliers in the trip duration column \n",
    "data = raw_data.sort_values(by=\"trip_duration\", ascending=False)\n",
    "data.head(20)"
   ]
  },
  {
   "cell_type": "code",
   "execution_count": 15,
   "metadata": {
    "scrolled": true
   },
   "outputs": [
    {
     "data": {
      "text/html": [
       "<div style=\"width:100%;\"><div style=\"position:relative;width:100%;height:0;padding-bottom:60%;\"><span style=\"color:#565656\">Make this Notebook Trusted to load map: File -> Trust Notebook</span><iframe src=\"about:blank\" style=\"position:absolute;width:100%;height:100%;left:0;top:0;border:none !important;\" data-html=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 onload=\"this.contentDocument.open();this.contentDocument.write(atob(this.getAttribute('data-html')));this.contentDocument.close();\" allowfullscreen webkitallowfullscreen mozallowfullscreen></iframe></div></div>"
      ],
      "text/plain": [
       "<folium.folium.Map at 0x16435d7bd30>"
      ]
     },
     "execution_count": 15,
     "metadata": {},
     "output_type": "execute_result"
    }
   ],
   "source": [
    "# Are these 20 longest trip mistakes?\n",
    "# Visualize the locations using Folium\n",
    "nyc = folium.Map(location=[40.7128, -74.0060],\n",
    "                 zoom_start=10)\n",
    "pickup = folium.Marker(location=[40.648632, -73.783905], popup=\"Pick-up Location\")\n",
    "pickup.add_to(nyc)\n",
    "\n",
    "dropoff = folium.Marker(location=[40.750202, -73.978271], popup=\"Drop-off Location\")\n",
    "dropoff.add_to(nyc)\n",
    "nyc # Judging from the locations, it is impossible that this trip took 40 days"
   ]
  },
  {
   "cell_type": "code",
   "execution_count": 16,
   "metadata": {},
   "outputs": [
    {
     "name": "stdout",
     "output_type": "stream",
     "text": [
      "(2253, 11)\n",
      "0.001502\n"
     ]
    }
   ],
   "source": [
    "# Set up a upper limit for trip durations.\n",
    "limit = 7200\n",
    "# how many records are there with duration > limit?\n",
    "long_trips = raw_data[raw_data['trip_duration'] > limit]\n",
    "print(long_trips.shape)\n",
    "\n",
    "print(2253 / 1.5e6)"
   ]
  },
  {
   "cell_type": "code",
   "execution_count": 17,
   "metadata": {
    "scrolled": true
   },
   "outputs": [
    {
     "name": "stdout",
     "output_type": "stream",
     "text": [
      "(1456391, 11)\n"
     ]
    },
    {
     "data": {
      "text/plain": [
       "<matplotlib.axes._subplots.AxesSubplot at 0x16435dc7040>"
      ]
     },
     "execution_count": 17,
     "metadata": {},
     "output_type": "execute_result"
    },
    {
     "data": {
      "image/png": "[encoded data removed]",
      "text/plain": [
       "<Figure size 432x288 with 1 Axes>"
      ]
     },
     "metadata": {
      "needs_background": "light"
     },
     "output_type": "display_data"
    }
   ],
   "source": [
    "# Let's remove these records from the data set\n",
    "data = raw_data.drop(long_trips.index)\n",
    "print(data.shape)\n",
    "data['trip_duration'].hist()"
   ]
  },
  {
   "cell_type": "code",
   "execution_count": 18,
   "metadata": {
    "scrolled": true
   },
   "outputs": [
    {
     "name": "stdout",
     "output_type": "stream",
     "text": [
      "(8595, 11)\n"
     ]
    },
    {
     "data": {
      "text/html": [
       "<div>\n",
       "<style scoped>\n",
       "    .dataframe tbody tr th:only-of-type {\n",
       "        vertical-align: middle;\n",
       "    }\n",
       "\n",
       "    .dataframe tbody tr th {\n",
       "        vertical-align: top;\n",
       "    }\n",
       "\n",
       "    .dataframe thead th {\n",
       "        text-align: right;\n",
       "    }\n",
       "</style>\n",
       "<table border=\"1\" class=\"dataframe\">\n",
       "  <thead>\n",
       "    <tr style=\"text-align: right;\">\n",
       "      <th></th>\n",
       "      <th>id</th>\n",
       "      <th>vendor_id</th>\n",
       "      <th>pickup_datetime</th>\n",
       "      <th>dropoff_datetime</th>\n",
       "      <th>passenger_count</th>\n",
       "      <th>pickup_longitude</th>\n",
       "      <th>pickup_latitude</th>\n",
       "      <th>dropoff_longitude</th>\n",
       "      <th>dropoff_latitude</th>\n",
       "      <th>store_and_fwd_flag</th>\n",
       "      <th>trip_duration</th>\n",
       "    </tr>\n",
       "  </thead>\n",
       "  <tbody>\n",
       "    <tr>\n",
       "      <th>1165514</th>\n",
       "      <td>id2757288</td>\n",
       "      <td>1</td>\n",
       "      <td>2016-04-03 23:53:28</td>\n",
       "      <td>2016-04-03 23:53:29</td>\n",
       "      <td>1</td>\n",
       "      <td>-73.845016</td>\n",
       "      <td>40.874332</td>\n",
       "      <td>-73.845016</td>\n",
       "      <td>40.874332</td>\n",
       "      <td>N</td>\n",
       "      <td>1</td>\n",
       "    </tr>\n",
       "    <tr>\n",
       "      <th>451396</th>\n",
       "      <td>id2836747</td>\n",
       "      <td>1</td>\n",
       "      <td>2016-01-26 10:47:22</td>\n",
       "      <td>2016-01-26 10:47:23</td>\n",
       "      <td>1</td>\n",
       "      <td>-74.001610</td>\n",
       "      <td>40.737450</td>\n",
       "      <td>-74.001610</td>\n",
       "      <td>40.737450</td>\n",
       "      <td>N</td>\n",
       "      <td>1</td>\n",
       "    </tr>\n",
       "    <tr>\n",
       "      <th>346959</th>\n",
       "      <td>id1171557</td>\n",
       "      <td>1</td>\n",
       "      <td>2016-02-10 16:33:43</td>\n",
       "      <td>2016-02-10 16:33:44</td>\n",
       "      <td>1</td>\n",
       "      <td>-73.776512</td>\n",
       "      <td>40.646454</td>\n",
       "      <td>-73.776512</td>\n",
       "      <td>40.646454</td>\n",
       "      <td>N</td>\n",
       "      <td>1</td>\n",
       "    </tr>\n",
       "    <tr>\n",
       "      <th>761666</th>\n",
       "      <td>id1363579</td>\n",
       "      <td>1</td>\n",
       "      <td>2016-04-26 14:33:09</td>\n",
       "      <td>2016-04-26 14:33:10</td>\n",
       "      <td>1</td>\n",
       "      <td>-73.978676</td>\n",
       "      <td>40.715626</td>\n",
       "      <td>-73.978691</td>\n",
       "      <td>40.715626</td>\n",
       "      <td>N</td>\n",
       "      <td>1</td>\n",
       "    </tr>\n",
       "    <tr>\n",
       "      <th>1296239</th>\n",
       "      <td>id0948644</td>\n",
       "      <td>2</td>\n",
       "      <td>2016-02-22 00:40:25</td>\n",
       "      <td>2016-02-22 00:40:26</td>\n",
       "      <td>0</td>\n",
       "      <td>-73.987595</td>\n",
       "      <td>40.719997</td>\n",
       "      <td>-73.987595</td>\n",
       "      <td>40.720005</td>\n",
       "      <td>N</td>\n",
       "      <td>1</td>\n",
       "    </tr>\n",
       "  </tbody>\n",
       "</table>\n",
       "</div>"
      ],
      "text/plain": [
       "                id  vendor_id     pickup_datetime    dropoff_datetime  \\\n",
       "1165514  id2757288          1 2016-04-03 23:53:28 2016-04-03 23:53:29   \n",
       "451396   id2836747          1 2016-01-26 10:47:22 2016-01-26 10:47:23   \n",
       "346959   id1171557          1 2016-02-10 16:33:43 2016-02-10 16:33:44   \n",
       "761666   id1363579          1 2016-04-26 14:33:09 2016-04-26 14:33:10   \n",
       "1296239  id0948644          2 2016-02-22 00:40:25 2016-02-22 00:40:26   \n",
       "\n",
       "         passenger_count  pickup_longitude  pickup_latitude  \\\n",
       "1165514                1        -73.845016        40.874332   \n",
       "451396                 1        -74.001610        40.737450   \n",
       "346959                 1        -73.776512        40.646454   \n",
       "761666                 1        -73.978676        40.715626   \n",
       "1296239                0        -73.987595        40.719997   \n",
       "\n",
       "         dropoff_longitude  dropoff_latitude store_and_fwd_flag  trip_duration  \n",
       "1165514         -73.845016         40.874332                  N              1  \n",
       "451396          -74.001610         40.737450                  N              1  \n",
       "346959          -73.776512         40.646454                  N              1  \n",
       "761666          -73.978691         40.715626                  N              1  \n",
       "1296239         -73.987595         40.720005                  N              1  "
      ]
     },
     "execution_count": 18,
     "metadata": {},
     "output_type": "execute_result"
    }
   ],
   "source": [
    "# Let's also check those extremely short trips\n",
    "limit = 60\n",
    "short_trips = data[data['trip_duration'] < limit]\n",
    "print(short_trips.shape)\n",
    "short_trips = short_trips.sort_values(by='trip_duration')\n",
    "short_trips.head()"
   ]
  },
  {
   "cell_type": "code",
   "execution_count": 19,
   "metadata": {},
   "outputs": [
    {
     "data": {
      "text/plain": [
       "(1447796, 11)"
      ]
     },
     "execution_count": 19,
     "metadata": {},
     "output_type": "execute_result"
    }
   ],
   "source": [
    "# Remove those extremely short trips\n",
    "data = data.drop(short_trips.index)\n",
    "data.shape"
   ]
  },
  {
   "cell_type": "code",
   "execution_count": 20,
   "metadata": {
    "scrolled": true
   },
   "outputs": [
    {
     "data": {
      "text/plain": [
       "2    774632\n",
       "1    673164\n",
       "Name: vendor_id, dtype: int64"
      ]
     },
     "execution_count": 20,
     "metadata": {},
     "output_type": "execute_result"
    }
   ],
   "source": [
    "# Examine vender IDs\n",
    "\n",
    "data['vendor_id'].value_counts()"
   ]
  },
  {
   "cell_type": "code",
   "execution_count": 21,
   "metadata": {
    "scrolled": true
   },
   "outputs": [
    {
     "data": {
      "text/plain": [
       "Text(0.5, 1.0, 'Vendor 2')"
      ]
     },
     "execution_count": 21,
     "metadata": {},
     "output_type": "execute_result"
    },
    {
     "data": {
      "image/png": "[encoded data removed]",
      "text/plain": [
       "<Figure size 720x360 with 2 Axes>"
      ]
     },
     "metadata": {
      "needs_background": "light"
     },
     "output_type": "display_data"
    }
   ],
   "source": [
    "# Does it matter which vendor the record come from?\n",
    "# Visualize the distribution of trip durations for record from each vendor.\n",
    "\n",
    "fig = plt.figure(figsize=(10, 5))\n",
    "ax1 = fig.add_subplot(1, 2, 1)\n",
    "ax1.hist(data[data['vendor_id'] == 1]['trip_duration'])\n",
    "ax1.set_title(\"Vendor 1\")\n",
    "\n",
    "ax2 = fig.add_subplot(1, 2, 2)\n",
    "ax2.hist(data[data['vendor_id'] == 2]['trip_duration'])\n",
    "ax2.set_title(\"Vendor 2\")\n"
   ]
  },
  {
   "cell_type": "markdown",
   "metadata": {},
   "source": [
    "`Vendor ID` does not matter to trip duration. We can ignore this feature from now on."
   ]
  },
  {
   "cell_type": "code",
   "execution_count": 22,
   "metadata": {},
   "outputs": [],
   "source": [
    "# Examine passenger counts\n",
    "# Skip this step\n",
    "# passenger counts does not matter"
   ]
  },
  {
   "cell_type": "code",
   "execution_count": 36,
   "metadata": {},
   "outputs": [
    {
     "data": {
      "text/plain": [
       "(1447779, 11)"
      ]
     },
     "execution_count": 36,
     "metadata": {},
     "output_type": "execute_result"
    }
   ],
   "source": [
    "# Remove rows where passenger count is zero.\n",
    "data_no_passenger = data[data['passenger_count'] == 0]\n",
    "data = data.drop(data_no_passenger.index)\n",
    "data.shape"
   ]
  },
  {
   "cell_type": "code",
   "execution_count": 24,
   "metadata": {},
   "outputs": [],
   "source": [
    "# Examine flags\n",
    "# flags does not matter\n"
   ]
  },
  {
   "cell_type": "code",
   "execution_count": 37,
   "metadata": {},
   "outputs": [
    {
     "data": {
      "text/plain": [
       "<matplotlib.axes._subplots.AxesSubplot at 0x16453f96190>"
      ]
     },
     "execution_count": 37,
     "metadata": {},
     "output_type": "execute_result"
    },
    {
     "data": {
      "image/png": "[encoded data removed]",
      "text/plain": [
       "<Figure size 432x288 with 1 Axes>"
      ]
     },
     "metadata": {
      "needs_background": "light"
     },
     "output_type": "display_data"
    }
   ],
   "source": [
    "# Examine pick-up date and time.\n",
    "data['pickup_datetime'].hist()\n"
   ]
  },
  {
   "cell_type": "code",
   "execution_count": 38,
   "metadata": {},
   "outputs": [
    {
     "data": {
      "text/plain": [
       "<matplotlib.axes._subplots.AxesSubplot at 0x16453fe6c40>"
      ]
     },
     "execution_count": 38,
     "metadata": {},
     "output_type": "execute_result"
    },
    {
     "data": {
      "image/png": "[encoded data removed]",
      "text/plain": [
       "<Figure size 432x288 with 1 Axes>"
      ]
     },
     "metadata": {
      "needs_background": "light"
     },
     "output_type": "display_data"
    }
   ],
   "source": [
    "# Examine drop-off date and time.\n",
    "\n",
    "data['dropoff_datetime'].hist()"
   ]
  },
  {
   "cell_type": "code",
   "execution_count": 53,
   "metadata": {},
   "outputs": [
    {
     "data": {
      "text/html": [
       "<div style=\"width:100%;\"><div style=\"position:relative;width:100%;height:0;padding-bottom:60%;\"><span style=\"color:#565656\">Make this Notebook Trusted to load map: File -> Trust Notebook</span><iframe src=\"about:blank\" style=\"position:absolute;width:100%;height:100%;left:0;top:0;border:none !important;\" data-html=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 onload=\"this.contentDocument.open();this.contentDocument.write(atob(this.getAttribute('data-html')));this.contentDocument.close();\" allowfullscreen webkitallowfullscreen mozallowfullscreen></iframe></div></div>"
      ],
      "text/plain": [
       "<folium.folium.Map at 0x1640165ca60>"
      ]
     },
     "execution_count": 53,
     "metadata": {},
     "output_type": "execute_result"
    }
   ],
   "source": [
    "# Examine pick-up logitude and latitude\n",
    "# Visualize the pick-up location using folium\n",
    "\n",
    "nyc = folium.Map(location=[40.7128, -74.0060],\n",
    "                 zoom_start=10)\n",
    "\n",
    "# data_samples = data.sample(100)\n",
    "\n",
    "# for ind in data_samples.index:\n",
    "#     longitude = data_samples.loc[ind, \"pickup_longitude\"]\n",
    "#     latitude = data_samples.loc[ind, \"pickup_latitude\"]\n",
    "# #     print(longitude, latitude)\n",
    "#     marker = folium.Marker(location=[latitude, longitude])\n",
    "#     marker.add_to(nyc)\n",
    "\n",
    "nyc"
   ]
  },
  {
   "cell_type": "code",
   "execution_count": 54,
   "metadata": {},
   "outputs": [
    {
     "data": {
      "text/plain": [
       "(40.5, 40.9)"
      ]
     },
     "execution_count": 54,
     "metadata": {},
     "output_type": "execute_result"
    },
    {
     "data": {
      "image/png": "[encoded data removed]",
      "text/plain": [
       "<Figure size 576x576 with 1 Axes>"
      ]
     },
     "metadata": {
      "needs_background": "light"
     },
     "output_type": "display_data"
    }
   ],
   "source": [
    "# Visualize the records using a scatter plot\n",
    "plt.figure(figsize=(8, 8))\n",
    "plt.plot(data['pickup_longitude'], data['pickup_latitude'], 'r.', alpha=0.005)\n",
    "plt.xlim([-74.1, -73.7])\n",
    "plt.ylim([40.5, 40.9])\n",
    "\n",
    "# Using color depths to represent density.\n",
    "# This is called a heatmap."
   ]
  },
  {
   "cell_type": "code",
   "execution_count": 28,
   "metadata": {},
   "outputs": [],
   "source": [
    "# Remove outliers\n",
    "# Some locations look very suspicious. Remove them from the data set.\n"
   ]
  },
  {
   "cell_type": "code",
   "execution_count": 29,
   "metadata": {},
   "outputs": [],
   "source": [
    "# Visualize pick-up locations\n",
    "\n"
   ]
  },
  {
   "cell_type": "code",
   "execution_count": 30,
   "metadata": {},
   "outputs": [],
   "source": [
    "# Visualize drop-off locations\n",
    "\n"
   ]
  },
  {
   "cell_type": "markdown",
   "metadata": {},
   "source": [
    "# Examine the relationship\n",
    "- Relationship of a single feature and the trip duration\n",
    "- Create additional useful features\n",
    "    - Distance between pick-up and drop-off\n",
    "    - Hour of the day\n",
    "    - Day of the week\n",
    "    - Weekdays vs. weekends\n",
    "    - Holidays?\n",
    "    - Weather?\n",
    "- Relationship of multiple features and the trip duration"
   ]
  },
  {
   "cell_type": "code",
   "execution_count": 31,
   "metadata": {},
   "outputs": [],
   "source": [
    "# Does vendor ID matter to trip durations?\n",
    "\n"
   ]
  },
  {
   "cell_type": "code",
   "execution_count": 32,
   "metadata": {},
   "outputs": [],
   "source": [
    "# Does passenger count matter to trip durations?\n",
    "\n"
   ]
  },
  {
   "cell_type": "code",
   "execution_count": 33,
   "metadata": {},
   "outputs": [],
   "source": [
    "# Create a column representing the aerial distance between pickup and dropoff\n",
    "# Aerial distance = np.sqrt((x2 - x1) ** 2 + (y2 - y2) ** 2)\n",
    "\n"
   ]
  },
  {
   "cell_type": "code",
   "execution_count": 34,
   "metadata": {},
   "outputs": [],
   "source": [
    "# Does the aerial distance matter to trip durations?\n",
    "\n"
   ]
  },
  {
   "cell_type": "code",
   "execution_count": null,
   "metadata": {},
   "outputs": [],
   "source": []
  },
  {
   "cell_type": "code",
   "execution_count": null,
   "metadata": {},
   "outputs": [],
   "source": []
  },
  {
   "cell_type": "code",
   "execution_count": null,
   "metadata": {},
   "outputs": [],
   "source": []
  },
  {
   "cell_type": "code",
   "execution_count": null,
   "metadata": {},
   "outputs": [],
   "source": []
  },
  {
   "cell_type": "code",
   "execution_count": null,
   "metadata": {},
   "outputs": [],
   "source": []
  }
 ],
 "metadata": {
  "kernelspec": {
   "display_name": "Python 3",
   "language": "python",
   "name": "python3"
  },
  "language_info": {
   "codemirror_mode": {
    "name": "ipython",
    "version": 3
   },
   "file_extension": ".py",
   "mimetype": "text/x-python",
   "name": "python",
   "nbconvert_exporter": "python",
   "pygments_lexer": "ipython3",
   "version": "3.8.3"
  }
 },
 "nbformat": 4,
 "nbformat_minor": 4
}
